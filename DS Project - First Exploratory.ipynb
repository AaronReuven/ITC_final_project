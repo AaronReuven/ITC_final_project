{
 "cells": [
  {
   "cell_type": "code",
   "execution_count": 1,
   "id": "7f233a7f",
   "metadata": {
    "ExecuteTime": {
     "end_time": "2021-08-26T06:49:26.816701Z",
     "start_time": "2021-08-26T06:49:24.727309Z"
    }
   },
   "outputs": [],
   "source": [
    "import pandas as pd\n",
    "import numpy as np\n",
    "import matplotlib.pyplot as plt"
   ]
  },
  {
   "cell_type": "code",
   "execution_count": 2,
   "id": "2662cc75",
   "metadata": {
    "ExecuteTime": {
     "end_time": "2021-08-26T06:50:03.508341Z",
     "start_time": "2021-08-26T06:49:59.406499Z"
    }
   },
   "outputs": [],
   "source": [
    "df = pd.read_csv(\"sign_mnist_train.csv\")"
   ]
  },
  {
   "cell_type": "code",
   "execution_count": 4,
   "id": "4c67020c",
   "metadata": {
    "ExecuteTime": {
     "end_time": "2021-08-26T06:50:13.141010Z",
     "start_time": "2021-08-26T06:50:13.093139Z"
    },
    "scrolled": false
   },
   "outputs": [
    {
     "data": {
      "text/html": [
       "<div>\n",
       "<style scoped>\n",
       "    .dataframe tbody tr th:only-of-type {\n",
       "        vertical-align: middle;\n",
       "    }\n",
       "\n",
       "    .dataframe tbody tr th {\n",
       "        vertical-align: top;\n",
       "    }\n",
       "\n",
       "    .dataframe thead th {\n",
       "        text-align: right;\n",
       "    }\n",
       "</style>\n",
       "<table border=\"1\" class=\"dataframe\">\n",
       "  <thead>\n",
       "    <tr style=\"text-align: right;\">\n",
       "      <th></th>\n",
       "      <th>label</th>\n",
       "      <th>pixel1</th>\n",
       "      <th>pixel2</th>\n",
       "      <th>pixel3</th>\n",
       "      <th>pixel4</th>\n",
       "      <th>pixel5</th>\n",
       "      <th>pixel6</th>\n",
       "      <th>pixel7</th>\n",
       "      <th>pixel8</th>\n",
       "      <th>pixel9</th>\n",
       "      <th>...</th>\n",
       "      <th>pixel775</th>\n",
       "      <th>pixel776</th>\n",
       "      <th>pixel777</th>\n",
       "      <th>pixel778</th>\n",
       "      <th>pixel779</th>\n",
       "      <th>pixel780</th>\n",
       "      <th>pixel781</th>\n",
       "      <th>pixel782</th>\n",
       "      <th>pixel783</th>\n",
       "      <th>pixel784</th>\n",
       "    </tr>\n",
       "  </thead>\n",
       "  <tbody>\n",
       "    <tr>\n",
       "      <th>0</th>\n",
       "      <td>3</td>\n",
       "      <td>107</td>\n",
       "      <td>118</td>\n",
       "      <td>127</td>\n",
       "      <td>134</td>\n",
       "      <td>139</td>\n",
       "      <td>143</td>\n",
       "      <td>146</td>\n",
       "      <td>150</td>\n",
       "      <td>153</td>\n",
       "      <td>...</td>\n",
       "      <td>207</td>\n",
       "      <td>207</td>\n",
       "      <td>207</td>\n",
       "      <td>207</td>\n",
       "      <td>206</td>\n",
       "      <td>206</td>\n",
       "      <td>206</td>\n",
       "      <td>204</td>\n",
       "      <td>203</td>\n",
       "      <td>202</td>\n",
       "    </tr>\n",
       "    <tr>\n",
       "      <th>1</th>\n",
       "      <td>6</td>\n",
       "      <td>155</td>\n",
       "      <td>157</td>\n",
       "      <td>156</td>\n",
       "      <td>156</td>\n",
       "      <td>156</td>\n",
       "      <td>157</td>\n",
       "      <td>156</td>\n",
       "      <td>158</td>\n",
       "      <td>158</td>\n",
       "      <td>...</td>\n",
       "      <td>69</td>\n",
       "      <td>149</td>\n",
       "      <td>128</td>\n",
       "      <td>87</td>\n",
       "      <td>94</td>\n",
       "      <td>163</td>\n",
       "      <td>175</td>\n",
       "      <td>103</td>\n",
       "      <td>135</td>\n",
       "      <td>149</td>\n",
       "    </tr>\n",
       "    <tr>\n",
       "      <th>2</th>\n",
       "      <td>2</td>\n",
       "      <td>187</td>\n",
       "      <td>188</td>\n",
       "      <td>188</td>\n",
       "      <td>187</td>\n",
       "      <td>187</td>\n",
       "      <td>186</td>\n",
       "      <td>187</td>\n",
       "      <td>188</td>\n",
       "      <td>187</td>\n",
       "      <td>...</td>\n",
       "      <td>202</td>\n",
       "      <td>201</td>\n",
       "      <td>200</td>\n",
       "      <td>199</td>\n",
       "      <td>198</td>\n",
       "      <td>199</td>\n",
       "      <td>198</td>\n",
       "      <td>195</td>\n",
       "      <td>194</td>\n",
       "      <td>195</td>\n",
       "    </tr>\n",
       "    <tr>\n",
       "      <th>3</th>\n",
       "      <td>2</td>\n",
       "      <td>211</td>\n",
       "      <td>211</td>\n",
       "      <td>212</td>\n",
       "      <td>212</td>\n",
       "      <td>211</td>\n",
       "      <td>210</td>\n",
       "      <td>211</td>\n",
       "      <td>210</td>\n",
       "      <td>210</td>\n",
       "      <td>...</td>\n",
       "      <td>235</td>\n",
       "      <td>234</td>\n",
       "      <td>233</td>\n",
       "      <td>231</td>\n",
       "      <td>230</td>\n",
       "      <td>226</td>\n",
       "      <td>225</td>\n",
       "      <td>222</td>\n",
       "      <td>229</td>\n",
       "      <td>163</td>\n",
       "    </tr>\n",
       "    <tr>\n",
       "      <th>4</th>\n",
       "      <td>13</td>\n",
       "      <td>164</td>\n",
       "      <td>167</td>\n",
       "      <td>170</td>\n",
       "      <td>172</td>\n",
       "      <td>176</td>\n",
       "      <td>179</td>\n",
       "      <td>180</td>\n",
       "      <td>184</td>\n",
       "      <td>185</td>\n",
       "      <td>...</td>\n",
       "      <td>92</td>\n",
       "      <td>105</td>\n",
       "      <td>105</td>\n",
       "      <td>108</td>\n",
       "      <td>133</td>\n",
       "      <td>163</td>\n",
       "      <td>157</td>\n",
       "      <td>163</td>\n",
       "      <td>164</td>\n",
       "      <td>179</td>\n",
       "    </tr>\n",
       "  </tbody>\n",
       "</table>\n",
       "<p>5 rows × 785 columns</p>\n",
       "</div>"
      ],
      "text/plain": [
       "   label  pixel1  pixel2  pixel3  pixel4  pixel5  pixel6  pixel7  pixel8  \\\n",
       "0      3     107     118     127     134     139     143     146     150   \n",
       "1      6     155     157     156     156     156     157     156     158   \n",
       "2      2     187     188     188     187     187     186     187     188   \n",
       "3      2     211     211     212     212     211     210     211     210   \n",
       "4     13     164     167     170     172     176     179     180     184   \n",
       "\n",
       "   pixel9  ...  pixel775  pixel776  pixel777  pixel778  pixel779  pixel780  \\\n",
       "0     153  ...       207       207       207       207       206       206   \n",
       "1     158  ...        69       149       128        87        94       163   \n",
       "2     187  ...       202       201       200       199       198       199   \n",
       "3     210  ...       235       234       233       231       230       226   \n",
       "4     185  ...        92       105       105       108       133       163   \n",
       "\n",
       "   pixel781  pixel782  pixel783  pixel784  \n",
       "0       206       204       203       202  \n",
       "1       175       103       135       149  \n",
       "2       198       195       194       195  \n",
       "3       225       222       229       163  \n",
       "4       157       163       164       179  \n",
       "\n",
       "[5 rows x 785 columns]"
      ]
     },
     "execution_count": 4,
     "metadata": {},
     "output_type": "execute_result"
    }
   ],
   "source": [
    "df.head()"
   ]
  },
  {
   "cell_type": "code",
   "execution_count": 5,
   "id": "65c12c8b",
   "metadata": {
    "ExecuteTime": {
     "end_time": "2021-08-26T06:50:37.592063Z",
     "start_time": "2021-08-26T06:50:37.567130Z"
    }
   },
   "outputs": [
    {
     "data": {
      "text/plain": [
       "(27455, 785)"
      ]
     },
     "execution_count": 5,
     "metadata": {},
     "output_type": "execute_result"
    }
   ],
   "source": [
    "df.shape"
   ]
  },
  {
   "cell_type": "code",
   "execution_count": 36,
   "id": "64fdfe4f",
   "metadata": {
    "ExecuteTime": {
     "end_time": "2021-08-26T07:07:24.644759Z",
     "start_time": "2021-08-26T07:07:24.631795Z"
    }
   },
   "outputs": [],
   "source": [
    "X = df.iloc[:, 1:]\n",
    "y = df[\"label\"]"
   ]
  },
  {
   "cell_type": "code",
   "execution_count": 37,
   "id": "3f346d69",
   "metadata": {
    "ExecuteTime": {
     "end_time": "2021-08-26T07:07:35.168908Z",
     "start_time": "2021-08-26T07:07:35.154948Z"
    },
    "scrolled": true
   },
   "outputs": [
    {
     "data": {
      "text/plain": [
       "[0,\n",
       " 1,\n",
       " 2,\n",
       " 3,\n",
       " 4,\n",
       " 5,\n",
       " 6,\n",
       " 7,\n",
       " 8,\n",
       " 10,\n",
       " 11,\n",
       " 12,\n",
       " 13,\n",
       " 14,\n",
       " 15,\n",
       " 16,\n",
       " 17,\n",
       " 18,\n",
       " 19,\n",
       " 20,\n",
       " 21,\n",
       " 22,\n",
       " 23,\n",
       " 24]"
      ]
     },
     "execution_count": 37,
     "metadata": {},
     "output_type": "execute_result"
    }
   ],
   "source": [
    "sorted(y.unique())"
   ]
  },
  {
   "cell_type": "markdown",
   "id": "d2c0f84f",
   "metadata": {},
   "source": [
    "As explained in the explanation : 0 = A, 25 should be equal to Z. However, J (9) and Z are missing because we need to move to sign them."
   ]
  },
  {
   "cell_type": "code",
   "execution_count": 38,
   "id": "19f32991",
   "metadata": {
    "ExecuteTime": {
     "end_time": "2021-08-26T07:07:43.570379Z",
     "start_time": "2021-08-26T07:07:43.057749Z"
    },
    "scrolled": true
   },
   "outputs": [
    {
     "data": {
      "image/png": "[encoded data removed]",
      "text/plain": [
       "<Figure size 432x288 with 1 Axes>"
      ]
     },
     "metadata": {
      "needs_background": "light"
     },
     "output_type": "display_data"
    }
   ],
   "source": [
    "y.value_counts().plot(kind = \"bar\", title = \"letter distribution\")\n",
    "plt.show()"
   ]
  },
  {
   "cell_type": "markdown",
   "id": "42e47c0a",
   "metadata": {},
   "source": [
    "Between around 1000 & 1300 value of each in the dataset"
   ]
  },
  {
   "cell_type": "code",
   "execution_count": 45,
   "id": "04c2a08a",
   "metadata": {
    "ExecuteTime": {
     "end_time": "2021-08-26T07:11:36.936289Z",
     "start_time": "2021-08-26T07:11:36.916342Z"
    },
    "scrolled": true
   },
   "outputs": [],
   "source": [
    "def get_index():\n",
    "    n = 0\n",
    "    i = 0\n",
    "    ordered_numbers = []\n",
    "    for number in y:\n",
    "        if int(number) == n:\n",
    "            ordered_numbers.append(i)\n",
    "            n += 1\n",
    "        if n == 9 or n == 25:\n",
    "            n += 1\n",
    "        if n == len(df[\"label\"].unique()):\n",
    "            return ordered_numbers\n",
    "        i += 1"
   ]
  },
  {
   "cell_type": "code",
   "execution_count": 82,
   "id": "5d8774ce",
   "metadata": {
    "ExecuteTime": {
     "end_time": "2021-08-26T08:21:34.610153Z",
     "start_time": "2021-08-26T08:21:30.772300Z"
    },
    "scrolled": true
   },
   "outputs": [
    {
     "data": {
      "image/png": "[encoded data removed]",
      "text/plain": [
       "<Figure size 864x1080 with 23 Axes>"
      ]
     },
     "metadata": {
      "needs_background": "light"
     },
     "output_type": "display_data"
    }
   ],
   "source": [
    "def get_image(sample_index):\n",
    "    fig=plt.figure(figsize=(12, 15))\n",
    "    columns = 5\n",
    "    rows = 5\n",
    "    a=np.random.rand(2,3)\n",
    "    for i in range(1, 24):\n",
    "        fig.add_subplot(rows, columns, i)\n",
    "        i = i-1\n",
    "        pixels = np.array(X.loc[sample_index[i]])\n",
    "        pixels = pixels.reshape((28, 28))\n",
    "        if i >= 9:\n",
    "            i = i+1\n",
    "        plt.title(\"label : {}\".format(i))\n",
    "        plt.imshow(pixels, cmap='gray')\n",
    "    plt.show()\n",
    "\n",
    "\n",
    "def show_images():\n",
    "    image_index = get_index()\n",
    "    get_image(image_index)\n",
    "\n",
    "show_images()"
   ]
  },
  {
   "cell_type": "code",
   "execution_count": 84,
   "id": "2a435271",
   "metadata": {
    "ExecuteTime": {
     "end_time": "2021-08-26T09:02:35.344018Z",
     "start_time": "2021-08-26T09:02:33.295072Z"
    }
   },
   "outputs": [],
   "source": [
    "df_test = pd.read_csv(\"sign_mnist_test.csv\")"
   ]
  },
  {
   "cell_type": "code",
   "execution_count": 85,
   "id": "b6abe009",
   "metadata": {
    "ExecuteTime": {
     "end_time": "2021-08-26T09:03:29.109333Z",
     "start_time": "2021-08-26T09:03:29.094372Z"
    }
   },
   "outputs": [],
   "source": [
    "y_test = df_test[\"label\"]\n",
    "X_test = df_test.iloc[:, 1:]"
   ]
  },
  {
   "cell_type": "code",
   "execution_count": 83,
   "id": "04af1754",
   "metadata": {
    "ExecuteTime": {
     "end_time": "2021-08-26T09:02:05.148838Z",
     "start_time": "2021-08-26T09:02:01.168655Z"
    }
   },
   "outputs": [],
   "source": [
    "from sklearn.ensemble import RandomForestClassifier"
   ]
  },
  {
   "cell_type": "code",
   "execution_count": 87,
   "id": "bbd8607b",
   "metadata": {
    "ExecuteTime": {
     "end_time": "2021-08-26T09:06:54.504101Z",
     "start_time": "2021-08-26T09:05:29.315852Z"
    }
   },
   "outputs": [],
   "source": [
    "clf = RandomForestClassifier()\n",
    "\n",
    "clf.fit(X, y)\n",
    "\n",
    "y_pred=clf.predict(X_test)"
   ]
  },
  {
   "cell_type": "code",
   "execution_count": 88,
   "id": "7c9fc360",
   "metadata": {
    "ExecuteTime": {
     "end_time": "2021-08-26T09:06:54.520064Z",
     "start_time": "2021-08-26T09:06:54.507094Z"
    }
   },
   "outputs": [],
   "source": [
    "from sklearn import metrics"
   ]
  },
  {
   "cell_type": "code",
   "execution_count": 89,
   "id": "21c29bfd",
   "metadata": {
    "ExecuteTime": {
     "end_time": "2021-08-26T09:06:54.569927Z",
     "start_time": "2021-08-26T09:06:54.543996Z"
    }
   },
   "outputs": [
    {
     "name": "stdout",
     "output_type": "stream",
     "text": [
      "Accuracy: 0.8096765197992192\n"
     ]
    }
   ],
   "source": [
    "print(\"Accuracy:\", metrics.accuracy_score(y_test, y_pred))"
   ]
  },
  {
   "cell_type": "code",
   "execution_count": 90,
   "id": "c1dd193d",
   "metadata": {
    "ExecuteTime": {
     "end_time": "2021-08-26T09:07:26.828599Z",
     "start_time": "2021-08-26T09:07:26.771748Z"
    }
   },
   "outputs": [
    {
     "name": "stdout",
     "output_type": "stream",
     "text": [
      "              precision    recall  f1-score   support\n",
      "\n",
      "           0       0.89      1.00      0.94       331\n",
      "           1       0.98      0.93      0.95       432\n",
      "           2       0.92      0.99      0.96       310\n",
      "           3       0.88      0.96      0.92       245\n",
      "           4       0.90      0.93      0.91       498\n",
      "           5       0.93      0.91      0.92       247\n",
      "           6       0.93      0.85      0.89       348\n",
      "           7       0.99      0.93      0.96       436\n",
      "           8       0.86      0.77      0.82       288\n",
      "          10       0.74      0.66      0.70       331\n",
      "          11       0.83      1.00      0.90       209\n",
      "          12       0.86      0.70      0.77       394\n",
      "          13       0.83      0.54      0.66       291\n",
      "          14       0.96      0.84      0.90       246\n",
      "          15       0.95      1.00      0.97       347\n",
      "          16       0.94      0.99      0.96       164\n",
      "          17       0.24      0.55      0.34       144\n",
      "          18       0.55      0.82      0.66       246\n",
      "          19       0.56      0.83      0.67       248\n",
      "          20       0.65      0.59      0.62       266\n",
      "          21       0.79      0.57      0.66       346\n",
      "          22       0.47      0.59      0.52       206\n",
      "          23       0.87      0.74      0.80       267\n",
      "          24       0.93      0.56      0.70       332\n",
      "\n",
      "    accuracy                           0.81      7172\n",
      "   macro avg       0.81      0.80      0.80      7172\n",
      "weighted avg       0.84      0.81      0.81      7172\n",
      "\n"
     ]
    }
   ],
   "source": [
    "print(metrics.classification_report(y_test, y_pred))"
   ]
  },
  {
   "cell_type": "markdown",
   "id": "84175f4a",
   "metadata": {},
   "source": [
    "Very inequal F1 score, for some label, very good score, for some others, very bad."
   ]
  }
 ],
 "metadata": {
  "kernelspec": {
   "display_name": "Python 3",
   "language": "python",
   "name": "python3"
  },
  "language_info": {
   "codemirror_mode": {
    "name": "ipython",
    "version": 3
   },
   "file_extension": ".py",
   "mimetype": "text/x-python",
   "name": "python",
   "nbconvert_exporter": "python",
   "pygments_lexer": "ipython3",
   "version": "3.8.8"
  }
 },
 "nbformat": 4,
 "nbformat_minor": 5
}
