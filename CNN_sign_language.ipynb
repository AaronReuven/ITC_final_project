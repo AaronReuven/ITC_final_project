{
 "cells": [
  {
   "cell_type": "code",
   "execution_count": 1,
   "id": "67450a98",
   "metadata": {},
   "outputs": [],
   "source": [
    "import tensorflow as tf\n",
    "physcial_devices = tf.config.list_physical_devices('GPU')\n",
    "tf.config.experimental.set_memory_growth(physcial_devices[0],True)"
   ]
  },
  {
   "cell_type": "code",
   "execution_count": 2,
   "id": "8e4cfcc7",
   "metadata": {},
   "outputs": [],
   "source": [
    "import pandas as pd\n",
    "import numpy as np\n",
    "import matplotlib.pyplot as plt"
   ]
  },
  {
   "cell_type": "code",
   "execution_count": 3,
   "id": "dcf4527b",
   "metadata": {},
   "outputs": [],
   "source": [
    "df = pd.read_csv(\"sign_mnist_train.csv.zip\")"
   ]
  },
  {
   "cell_type": "code",
   "execution_count": 4,
   "id": "e51de47c",
   "metadata": {},
   "outputs": [],
   "source": [
    "X = df.drop(columns='label')\n",
    "y = df['label']"
   ]
  },
  {
   "cell_type": "code",
   "execution_count": 5,
   "id": "acd678e4",
   "metadata": {},
   "outputs": [
    {
     "data": {
      "text/plain": [
       "(27455, 784)"
      ]
     },
     "execution_count": 5,
     "metadata": {},
     "output_type": "execute_result"
    }
   ],
   "source": [
    "X.shape"
   ]
  },
  {
   "cell_type": "code",
   "execution_count": 6,
   "id": "d0bb6db6",
   "metadata": {},
   "outputs": [
    {
     "data": {
      "text/plain": [
       "(27455,)"
      ]
     },
     "execution_count": 6,
     "metadata": {},
     "output_type": "execute_result"
    }
   ],
   "source": [
    "y.shape"
   ]
  },
  {
   "cell_type": "code",
   "execution_count": 7,
   "id": "8a0dd515",
   "metadata": {},
   "outputs": [],
   "source": [
    "y = pd.get_dummies(y)"
   ]
  },
  {
   "cell_type": "code",
   "execution_count": 8,
   "id": "4c36e43b",
   "metadata": {},
   "outputs": [
    {
     "data": {
      "text/plain": [
       "(27455, 24)"
      ]
     },
     "execution_count": 8,
     "metadata": {},
     "output_type": "execute_result"
    }
   ],
   "source": [
    "y.shape"
   ]
  },
  {
   "cell_type": "code",
   "execution_count": 9,
   "id": "8a32aa14",
   "metadata": {},
   "outputs": [],
   "source": [
    "X_numpy = X.to_numpy()\n",
    "y_numpy = y.to_numpy()\n"
   ]
  },
  {
   "cell_type": "code",
   "execution_count": 10,
   "id": "16610fe1",
   "metadata": {},
   "outputs": [],
   "source": [
    "X_numpy = np.reshape(X_numpy,(X_numpy.shape[0],28,28))"
   ]
  },
  {
   "cell_type": "code",
   "execution_count": 11,
   "id": "14afd3ed",
   "metadata": {},
   "outputs": [
    {
     "data": {
      "text/plain": [
       "(27455, 28, 28)"
      ]
     },
     "execution_count": 11,
     "metadata": {},
     "output_type": "execute_result"
    }
   ],
   "source": [
    "X_numpy.shape"
   ]
  },
  {
   "cell_type": "code",
   "execution_count": 12,
   "id": "ccfc497f",
   "metadata": {},
   "outputs": [],
   "source": [
    "from tensorflow.keras.models import Sequential\n",
    "from tensorflow.keras.layers import Conv1D, MaxPool1D, Flatten, Dense, InputLayer, BatchNormalization, Dropout\n",
    "from tensorflow.keras.layers.experimental.preprocessing import Rescaling\n",
    "\n",
    "# build a sequential model\n",
    "model = Sequential()\n",
    "model.add(Rescaling(1/255, input_shape=X_numpy.shape[1:]))\n",
    "\n",
    "# 1st conv block\n",
    "model.add(Conv1D(25, 5, activation='relu', strides=1, padding='same'))\n",
    "model.add(MaxPool1D(pool_size=2, padding='same'))\n",
    "# 2nd conv block\n",
    "model.add(Conv1D(50, 5, activation='relu', strides=2, padding='same'))\n",
    "model.add(MaxPool1D(pool_size=2, padding='same'))\n",
    "model.add(BatchNormalization())\n",
    "# 3rd conv block\n",
    "model.add(Conv1D(70, 3, activation='relu', strides=2, padding='same'))\n",
    "model.add(MaxPool1D(pool_size=2, padding='valid'))\n",
    "model.add(BatchNormalization())\n",
    "# ANN block\n",
    "model.add(Flatten())\n",
    "model.add(Dense(units=100, activation='relu'))\n",
    "model.add(Dense(units=100, activation='relu'))\n",
    "model.add(Dropout(0.25))\n",
    "# output layer\n",
    "model.add(Dense(units=24, activation='softmax'))\n"
   ]
  },
  {
   "cell_type": "code",
   "execution_count": 13,
   "id": "75e33479",
   "metadata": {},
   "outputs": [],
   "source": [
    "# compile model\n",
    "model.compile(loss='categorical_crossentropy', optimizer=\"adam\", metrics=['accuracy'])"
   ]
  },
  {
   "cell_type": "code",
   "execution_count": 14,
   "id": "8b6604ae",
   "metadata": {},
   "outputs": [],
   "source": [
    "# display(model.input_shape)\n",
    "# display(model.output_shape)\n",
    "# model.summary()"
   ]
  },
  {
   "cell_type": "code",
   "execution_count": 15,
   "id": "b632952a",
   "metadata": {},
   "outputs": [
    {
     "name": "stdout",
     "output_type": "stream",
     "text": [
      "Epoch 1/30\n",
      "6178/6178 [==============================] - 51s 8ms/step - loss: 2.2445 - accuracy: 0.3103 - val_loss: 0.8394 - val_accuracy: 0.7130\n",
      "Epoch 2/30\n",
      "6178/6178 [==============================] - 48s 8ms/step - loss: 1.1269 - accuracy: 0.6285 - val_loss: 0.8948 - val_accuracy: 0.7105\n",
      "Epoch 3/30\n",
      "6178/6178 [==============================] - 48s 8ms/step - loss: 0.8697 - accuracy: 0.7030 - val_loss: 0.3565 - val_accuracy: 0.8871\n",
      "Epoch 4/30\n",
      "6178/6178 [==============================] - 48s 8ms/step - loss: 0.7080 - accuracy: 0.7578 - val_loss: 0.2231 - val_accuracy: 0.9202\n",
      "Epoch 5/30\n",
      "6178/6178 [==============================] - 48s 8ms/step - loss: 0.6263 - accuracy: 0.7884 - val_loss: 0.1629 - val_accuracy: 0.9461\n",
      "Epoch 6/30\n",
      "6178/6178 [==============================] - 48s 8ms/step - loss: 0.5622 - accuracy: 0.8133 - val_loss: 0.2025 - val_accuracy: 0.9355\n",
      "Epoch 7/30\n",
      "6178/6178 [==============================] - 48s 8ms/step - loss: 0.4807 - accuracy: 0.8411 - val_loss: 0.6329 - val_accuracy: 0.8605\n"
     ]
    },
    {
     "data": {
      "text/plain": [
       "<tensorflow.python.keras.callbacks.History at 0x7ff309bc8250>"
      ]
     },
     "execution_count": 15,
     "metadata": {},
     "output_type": "execute_result"
    }
   ],
   "source": [
    "# fit on data for 30 epochs\n",
    "from tensorflow.keras.callbacks import EarlyStopping\n",
    "model.fit(X_numpy, y_numpy, epochs=30, validation_split=0.1, batch_size=4,callbacks=[EarlyStopping(patience=2)])"
   ]
  },
  {
   "cell_type": "code",
   "execution_count": 16,
   "id": "c1fcc257",
   "metadata": {},
   "outputs": [],
   "source": [
    "test_df = pd.read_csv(\"sign_mnist_test.csv.zip\")"
   ]
  },
  {
   "cell_type": "code",
   "execution_count": 17,
   "id": "9d4298e5",
   "metadata": {},
   "outputs": [],
   "source": [
    "X_test = test_df.drop(columns='label')\n",
    "y_test = test_df['label']"
   ]
  },
  {
   "cell_type": "code",
   "execution_count": 18,
   "id": "747538bb",
   "metadata": {},
   "outputs": [],
   "source": [
    "y_test = pd.get_dummies(y_test)"
   ]
  },
  {
   "cell_type": "code",
   "execution_count": 19,
   "id": "f13fa7b2",
   "metadata": {},
   "outputs": [],
   "source": [
    "assert y.shape[1] == y_test.shape[1]"
   ]
  },
  {
   "cell_type": "code",
   "execution_count": 20,
   "id": "77650a92",
   "metadata": {},
   "outputs": [],
   "source": [
    "X_test_np = X_test.to_numpy()\n",
    "y_test_np = y_test.to_numpy()\n"
   ]
  },
  {
   "cell_type": "code",
   "execution_count": 21,
   "id": "e8e935d8",
   "metadata": {},
   "outputs": [],
   "source": [
    "X_test_np = np.reshape(X_test_np,(X_test_np.shape[0],28,28))"
   ]
  },
  {
   "cell_type": "code",
   "execution_count": 22,
   "id": "dfcac215",
   "metadata": {},
   "outputs": [
    {
     "data": {
      "text/plain": [
       "(7172, 28, 28)"
      ]
     },
     "execution_count": 22,
     "metadata": {},
     "output_type": "execute_result"
    }
   ],
   "source": [
    "X_test_np.shape"
   ]
  },
  {
   "cell_type": "code",
   "execution_count": 23,
   "id": "637cee55",
   "metadata": {},
   "outputs": [
    {
     "data": {
      "text/plain": [
       "(7172, 24)"
      ]
     },
     "execution_count": 23,
     "metadata": {},
     "output_type": "execute_result"
    }
   ],
   "source": [
    "y_test_np.shape"
   ]
  },
  {
   "cell_type": "code",
   "execution_count": 24,
   "id": "3c0d941b",
   "metadata": {},
   "outputs": [
    {
     "name": "stdout",
     "output_type": "stream",
     "text": [
      "225/225 [==============================] - 1s 4ms/step - loss: 1.4932 - accuracy: 0.7125\n",
      "Test set accuracy: 0.7124930024147034\n"
     ]
    }
   ],
   "source": [
    "loss,acc = model.evaluate(X_test_np,y_test_np)\n",
    "print('Test set accuracy:',acc)"
   ]
  },
  {
   "cell_type": "code",
   "execution_count": 25,
   "id": "dbd75ef4",
   "metadata": {},
   "outputs": [],
   "source": [
    "# print(metrics.classification_report(y_test, y_pred))\n",
    "y_pred = model.predict(X_test_np)"
   ]
  },
  {
   "cell_type": "code",
   "execution_count": 27,
   "id": "26ef69c2",
   "metadata": {},
   "outputs": [],
   "source": [
    "preds = pd.DataFrame(y_pred,columns=y_test.columns)"
   ]
  },
  {
   "cell_type": "code",
   "execution_count": 28,
   "id": "e2bc1953",
   "metadata": {},
   "outputs": [],
   "source": [
    "affected = (preds != 0).any(axis=1)\n",
    "nz = preds[affected]\n",
    "preds[affected] = (nz.T == nz.max(axis=1)).T.astype(int)"
   ]
  },
  {
   "cell_type": "code",
   "execution_count": 29,
   "id": "d03d2170",
   "metadata": {},
   "outputs": [
    {
     "name": "stdout",
     "output_type": "stream",
     "text": [
      "              precision    recall  f1-score   support\n",
      "\n",
      "           0       0.85      0.80      0.82       331\n",
      "           1       0.83      1.00      0.91       432\n",
      "           2       1.00      0.85      0.92       310\n",
      "           3       0.80      0.96      0.88       245\n",
      "           4       0.75      1.00      0.85       498\n",
      "           5       0.76      0.98      0.85       247\n",
      "           6       0.98      0.43      0.60       348\n",
      "           7       0.98      0.77      0.86       436\n",
      "           8       0.62      0.81      0.70       288\n",
      "           9       0.77      0.53      0.62       331\n",
      "          10       0.95      0.80      0.87       209\n",
      "          11       0.77      0.67      0.72       394\n",
      "          12       0.81      0.16      0.26       291\n",
      "          13       0.67      0.78      0.72       246\n",
      "          14       0.91      0.91      0.91       347\n",
      "          15       0.78      0.91      0.84       164\n",
      "          16       0.21      0.05      0.08       144\n",
      "          17       0.74      0.70      0.72       246\n",
      "          18       0.47      0.87      0.61       248\n",
      "          19       0.72      0.36      0.48       266\n",
      "          20       0.39      0.49      0.44       346\n",
      "          21       0.30      1.00      0.46       206\n",
      "          22       0.98      0.58      0.73       267\n",
      "          23       0.82      0.38      0.52       332\n",
      "\n",
      "   micro avg       0.71      0.71      0.71      7172\n",
      "   macro avg       0.74      0.70      0.68      7172\n",
      "weighted avg       0.77      0.71      0.70      7172\n",
      " samples avg       0.71      0.71      0.71      7172\n",
      "\n"
     ]
    }
   ],
   "source": [
    "from sklearn.metrics import classification_report\n",
    "print(classification_report(y_test, preds))"
   ]
  },
  {
   "cell_type": "markdown",
   "id": "6f6dc509",
   "metadata": {},
   "source": [
    "We might need to tweak the model to our problem."
   ]
  }
 ],
 "metadata": {
  "kernelspec": {
   "display_name": "Python 3",
   "language": "python",
   "name": "python3"
  },
  "language_info": {
   "codemirror_mode": {
    "name": "ipython",
    "version": 3
   },
   "file_extension": ".py",
   "mimetype": "text/x-python",
   "name": "python",
   "nbconvert_exporter": "python",
   "pygments_lexer": "ipython3",
   "version": "3.8.8"
  }
 },
 "nbformat": 4,
 "nbformat_minor": 5
}
